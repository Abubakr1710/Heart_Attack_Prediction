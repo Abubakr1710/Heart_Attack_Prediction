{
 "cells": [
  {
   "cell_type": "markdown",
   "metadata": {},
   "source": [
    "### Import Libraries"
   ]
  },
  {
   "cell_type": "code",
   "execution_count": 96,
   "metadata": {},
   "outputs": [],
   "source": [
    "import data_handler as dh\n",
    "from sklearn.ensemble import RandomForestClassifier, GradientBoostingClassifier\n",
    "\n",
    "from sklearn import svm\n",
    "from sklearn.preprocessing import StandardScaler\n",
    "from sklearn.metrics import ConfusionMatrixDisplay\n",
    "\n",
    "from sklearn.metrics import f1_score, precision_score, recall_score, ConfusionMatrixDisplay"
   ]
  },
  {
   "cell_type": "markdown",
   "metadata": {},
   "source": [
    "### Get Data"
   ]
  },
  {
   "cell_type": "code",
   "execution_count": 97,
   "metadata": {},
   "outputs": [],
   "source": [
    "data_path = './data/heart.csv'\n",
    "x_train, x_test, y_train, y_test = dh.get_data(data_path)"
   ]
  },
  {
   "cell_type": "markdown",
   "metadata": {},
   "source": [
    "### Normalising the Data"
   ]
  },
  {
   "cell_type": "code",
   "execution_count": 98,
   "metadata": {},
   "outputs": [],
   "source": [
    "scalar = StandardScaler()\n",
    "scalar_x_train = scalar.fit_transform(x_train)\n",
    "scalar_x_test = scalar.transform(x_test)"
   ]
  },
  {
   "cell_type": "markdown",
   "metadata": {},
   "source": [
    "### Train Model"
   ]
  },
  {
   "cell_type": "markdown",
   "metadata": {},
   "source": [
    "#### SVM"
   ]
  },
  {
   "cell_type": "code",
   "execution_count": 99,
   "metadata": {},
   "outputs": [
    {
     "name": "stdout",
     "output_type": "stream",
     "text": [
      "Train Accuracy: 0.8925619834710744,\tTest Accuracy: 0.8688524590163934\n",
      "F1 Score: 0.8888888888888888,\tPrecision  Score: 0.8421052631578947,\tRecall Score: 0.9411764705882353\n"
     ]
    },
    {
     "data": {
      "image/png": "[encoded data removed]",
      "text/plain": [
       "<Figure size 432x288 with 2 Axes>"
      ]
     },
     "metadata": {
      "needs_background": "light"
     },
     "output_type": "display_data"
    }
   ],
   "source": [
    "#fit svm\n",
    "svm_clf_best = svm.SVC()\n",
    "svm_clf_best.fit(scalar_x_train,y_train)\n",
    "\n",
    "#check initial accuracy\n",
    "acc_train = svm_clf_best.score(scalar_x_train,y_train)\n",
    "acc_test = svm_clf_best.score(scalar_x_test,y_test)\n",
    "y_pred = svm_clf_best.predict(scalar_x_test)\n",
    "print(\"Train Accuracy: {},\\tTest Accuracy: {}\".format(acc_train,acc_test))\n",
    "print(\"F1 Score: {},\\tPrecision  Score: {},\\tRecall Score: {}\".format( f1_score(y_test, y_pred), precision_score(y_test, y_pred), recall_score(y_test, y_pred) ) )\n",
    "\n",
    "conf=ConfusionMatrixDisplay.from_estimator(svm_clf_best, scalar_x_test, y_test);#, display_labels=labels\n",
    "conf_mat = conf.confusion_matrix"
   ]
  },
  {
   "cell_type": "markdown",
   "metadata": {},
   "source": [
    "#### Gradient Boosting"
   ]
  },
  {
   "cell_type": "code",
   "execution_count": 102,
   "metadata": {},
   "outputs": [
    {
     "name": "stdout",
     "output_type": "stream",
     "text": [
      "Train Accuracy: 1.0,\tTest Accuracy: 0.8032786885245902\n",
      "F1 Score: 0.8235294117647058,\tPrecision  Score: 0.8235294117647058,\tRecall Score: 0.8235294117647058\n"
     ]
    },
    {
     "data": {
      "image/png": "[encoded data removed]",
      "text/plain": [
       "<Figure size 432x288 with 2 Axes>"
      ]
     },
     "metadata": {
      "needs_background": "light"
     },
     "output_type": "display_data"
    }
   ],
   "source": [
    "#fit gdb\n",
    "gdb_clf = GradientBoostingClassifier()\n",
    "gdb_clf.fit(x_train,y_train)\n",
    "\n",
    "#check initial accuracy\n",
    "acc_train = gdb_clf.score(x_train,y_train)\n",
    "acc_test = gdb_clf.score(x_test,y_test)\n",
    "y_pred = gdb_clf.predict(x_test)\n",
    "\n",
    "print(\"Train Accuracy: {},\\tTest Accuracy: {}\".format(acc_train,acc_test))\n",
    "print(\"F1 Score: {},\\tPrecision  Score: {},\\tRecall Score: {}\".format( f1_score(y_test, y_pred), precision_score(y_test, y_pred), recall_score(y_test, y_pred) ) )\n",
    "\n",
    "conf=ConfusionMatrixDisplay.from_estimator(gdb_clf, x_test, y_test);#, display_labels=labels\n",
    "conf_mat = conf.confusion_matrix"
   ]
  },
  {
   "cell_type": "markdown",
   "metadata": {},
   "source": [
    "#### Random Forest Classifier"
   ]
  },
  {
   "cell_type": "code",
   "execution_count": 104,
   "metadata": {},
   "outputs": [
    {
     "name": "stdout",
     "output_type": "stream",
     "text": [
      "Train Accuracy: 1.0,\tTest Accuracy: 0.8360655737704918\n",
      "F1 Score: 0.8529411764705882,\tPrecision  Score: 0.8529411764705882,\tRecall Score: 0.8529411764705882\n"
     ]
    },
    {
     "data": {
      "image/png": "[encoded data removed]",
      "text/plain": [
       "<Figure size 432x288 with 2 Axes>"
      ]
     },
     "metadata": {
      "needs_background": "light"
     },
     "output_type": "display_data"
    }
   ],
   "source": [
    "#fit gdb\n",
    "gdb_clf = RandomForestClassifier()\n",
    "gdb_clf.fit(x_train,y_train)\n",
    "\n",
    "#check initial accuracy\n",
    "acc_train = gdb_clf.score(x_train,y_train)\n",
    "acc_test = gdb_clf.score(x_test,y_test)\n",
    "y_pred = gdb_clf.predict(x_test)\n",
    "\n",
    "print(\"Train Accuracy: {},\\tTest Accuracy: {}\".format(acc_train,acc_test))\n",
    "print(\"F1 Score: {},\\tPrecision  Score: {},\\tRecall Score: {}\".format( f1_score(y_test, y_pred), precision_score(y_test, y_pred), recall_score(y_test, y_pred) ) )\n",
    "\n",
    "conf=ConfusionMatrixDisplay.from_estimator(gdb_clf, x_test, y_test)\n",
    "conf_mat = conf.confusion_matrix"
   ]
  }
 ],
 "metadata": {
  "interpreter": {
   "hash": "7016010205a98451d52b0c4cab227365108095c7ad70437c80600f3976844f69"
  },
  "kernelspec": {
   "display_name": "Python 3.9.4 64-bit ('strive': conda)",
   "language": "python",
   "name": "python3"
  },
  "language_info": {
   "codemirror_mode": {
    "name": "ipython",
    "version": 3
   },
   "file_extension": ".py",
   "mimetype": "text/x-python",
   "name": "python",
   "nbconvert_exporter": "python",
   "pygments_lexer": "ipython3",
   "version": "3.9.4"
  },
  "orig_nbformat": 4
 },
 "nbformat": 4,
 "nbformat_minor": 2
}
